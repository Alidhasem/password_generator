{
 "cells": [
  {
   "cell_type": "code",
   "execution_count": 7,
   "metadata": {},
   "outputs": [],
   "source": [
    "# Defining the needed sets of characters \n",
    "lowercase_letters = ['a', 'b', 'c', 'd', 'e', 'f', 'g', 'h', 'i', 'j', 'k', 'l', 'm', 'n', 'ñ', 'o', 'p', 'q', 'r', 's', 't', 'u', 'v', 'w', 'x', 'y', 'z']\n",
    "uppercase_letters = [str.upper(i) for i in lowercase_letters]\n",
    "numbers = [i for i in range(10)]"
   ]
  },
  {
   "cell_type": "code",
   "execution_count": 8,
   "metadata": {},
   "outputs": [],
   "source": [
    "# Ask for the number of letters\n",
    "n_low_letters = input('How many lowercase letters do you want to use?')\n",
    "n_low_letters = int(n_low_letters)\n",
    "n_up_letters = input('How many uppercase letters do you want to use?')\n",
    "n_up_letters = int(n_up_letters)"
   ]
  },
  {
   "cell_type": "code",
   "execution_count": 9,
   "metadata": {},
   "outputs": [],
   "source": [
    "# Ask for the quantity of numbers\n",
    "n_numbers = input('How many numeric characters do you want to use?')\n",
    "n_numbers = int(n_numbers)"
   ]
  },
  {
   "cell_type": "code",
   "execution_count": 10,
   "metadata": {},
   "outputs": [],
   "source": [
    "# Ask for \"other characters\"\n",
    "char_bool = input('Do you want to use other characters besides letters and numbers? (1: Yes | 2: No)')\n",
    "\n",
    "# Save the user characters in a list\n",
    "if char_bool == '1':\n",
    "    user_str = input('What other characters do you want to use? (write them without spaces)')\n",
    "    user_chars = [i for i in user_str]\n",
    "    n_user_chars = input('How many of these characters do you want to include?')\n",
    "    n_user_chars = int(n_user_chars)"
   ]
  },
  {
   "cell_type": "code",
   "execution_count": 11,
   "metadata": {},
   "outputs": [],
   "source": [
    "# Randomly selecting the characters to use\n",
    "import random\n",
    "rand_up_letters =  random.choices(uppercase_letters, k=n_up_letters)\n",
    "rand_low_letters =  random.choices(lowercase_letters, k=n_low_letters)\n",
    "rand_nums = random.choices(numbers, k=n_numbers)\n",
    "rand_other_chars = random.choices(user_chars, k=n_user_chars)\n",
    "rand_chars = rand_up_letters + rand_low_letters + rand_nums + rand_other_chars\n",
    "rand_chars = random.sample(rand_chars, k=len(rand_chars))"
   ]
  },
  {
   "cell_type": "code",
   "execution_count": 12,
   "metadata": {},
   "outputs": [
    {
     "data": {
      "text/plain": [
       "'Ñ8**ñ_f9*HK#Sy208Qqm'"
      ]
     },
     "execution_count": 12,
     "metadata": {},
     "output_type": "execute_result"
    }
   ],
   "source": [
    "# Create the new password as a string\n",
    "password = ''\n",
    "for i in rand_chars:\n",
    "    i = str(i)\n",
    "    password = password + i\n",
    "\n",
    "# Print the new password\n",
    "password"
   ]
  }
 ],
 "metadata": {
  "kernelspec": {
   "display_name": "Python 3.8.10 64-bit",
   "language": "python",
   "name": "python3"
  },
  "language_info": {
   "codemirror_mode": {
    "name": "ipython",
    "version": 3
   },
   "file_extension": ".py",
   "mimetype": "text/x-python",
   "name": "python",
   "nbconvert_exporter": "python",
   "pygments_lexer": "ipython3",
   "version": "3.8.10"
  },
  "orig_nbformat": 4,
  "vscode": {
   "interpreter": {
    "hash": "916dbcbb3f70747c44a77c7bcd40155683ae19c65e1c03b4aa3499c5328201f1"
   }
  }
 },
 "nbformat": 4,
 "nbformat_minor": 2
}
